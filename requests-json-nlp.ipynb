{
 "cells": [
  {
   "cell_type": "markdown",
   "metadata": {},
   "source": [
    "# Web Mining and Applied NLP (44-620)\n",
    "\n",
    "## Requests, JSON, and NLP\n",
    "\n",
    "### Student Name: Mhamed Maatou\n",
    "\n",
    "GitHub link: https://github.com/Mhamedben/M4JSONNLP.git\n",
    "\n",
    "Perform the tasks described in the Markdown cells below.  When you have completed the assignment make sure your code cells have all been run (and have output beneath them) and ensure you have committed and pushed ALL of your changes to your assignment repository.\n",
    "\n",
    "Make sure you have [installed spaCy and its pipeline](https://spacy.io/usage#quickstart) and [spaCyTextBlob](https://spacy.io/universe/project/spacy-textblob)\n",
    "\n",
    "Every question that requires you to write code will have a code cell underneath it; you may either write your entire solution in that cell or write it in a python file (`.py`), then import and run the appropriate code to answer the question.\n",
    "\n",
    "This assignment requires that you write additional files (either JSON or pickle files); make sure to submit those files in your repository as well."
   ]
  },
  {
   "cell_type": "markdown",
   "metadata": {},
   "source": [
    "1. The following code accesses the [lyrics.ovh](https://lyricsovh.docs.apiary.io/#reference/0/lyrics-of-a-song/search) public api, searches for the lyrics of a song, and stores it in a dictionary object.  Write the resulting json to a file (either a JSON file or a pickle file; you choose). You will read in the contents of this file for future questions so we do not need to frequently access the API."
   ]
  },
  {
   "cell_type": "code",
   "execution_count": 31,
   "metadata": {},
   "outputs": [
    {
     "name": "stdout",
     "output_type": "stream",
     "text": [
      "Lyrics saved to lyrics.json\n"
     ]
    }
   ],
   "source": [
    "import requests\n",
    "import json\n",
    "\n",
    "# Function to search for song lyrics via the lyrics.ovh API\n",
    "def get_lyrics(artist, title):\n",
    "    url = f\"https://api.lyrics.ovh/v1/{artist}/{title}\"\n",
    "    response = requests.get(url)\n",
    "\n",
    "    if response.status_code == 200:\n",
    "        return response.json()  # Returns the lyrics data as a dictionary\n",
    "    else:\n",
    "        return {\"error\": \"Lyrics not found\"}\n",
    "\n",
    "# Save lyrics to a JSON file\n",
    "def save_lyrics_to_file(lyrics_data, filename=\"lyrics_data.json\"):\n",
    "    with open(filename, 'w') as json_file:\n",
    "        json.dump(lyrics_data, json_file, indent=4)\n",
    "\n",
    "# Load lyrics from a JSON file\n",
    "def load_lyrics_from_file(filename=\"lyrics_data.json\"):\n",
    "    try:\n",
    "        with open(filename, 'r') as json_file:\n",
    "            return json.load(json_file)\n",
    "    except FileNotFoundError:\n",
    "        print(f\"The file {filename} does not exist.\")\n",
    "        return None\n",
    "\n",
    "\n",
    "# Fetch lyrics from the API\n",
    "lyrics = get_lyrics(artist_name, song_title)\n",
    "\n",
    "# Save the lyrics to a JSON file\n",
    "save_lyrics_to_file(lyrics, \"lyrics_data.json\")\n",
    "print(\"Lyrics saved to lyrics.json\")\n",
    "\n"
   ]
  },
  {
   "cell_type": "markdown",
   "metadata": {},
   "source": [
    "2. Read in the contents of your file.  Print the lyrics of the song (not the entire dictionary!) and use spaCyTextBlob to perform sentiment analysis on the lyrics.  Print the polarity score of the sentiment analysis.  Given that the range of the polarity score is `[-1.0,1.0]` which corresponds to how positive or negative the text in question is, do you think the lyrics have a more positive or negative connotaion?  Answer this question in a comment in your code cell."
   ]
  },
  {
   "cell_type": "code",
   "execution_count": 45,
   "metadata": {},
   "outputs": [
    {
     "ename": "ModuleNotFoundError",
     "evalue": "No module named 'spacy'",
     "output_type": "error",
     "traceback": [
      "\u001b[1;31m---------------------------------------------------------------------------\u001b[0m",
      "\u001b[1;31mModuleNotFoundError\u001b[0m                       Traceback (most recent call last)",
      "Cell \u001b[1;32mIn[45], line 2\u001b[0m\n\u001b[0;32m      1\u001b[0m \u001b[38;5;28;01mimport\u001b[39;00m \u001b[38;5;21;01mjson\u001b[39;00m\n\u001b[1;32m----> 2\u001b[0m \u001b[38;5;28;01mimport\u001b[39;00m \u001b[38;5;21;01mspacy\u001b[39;00m\n\u001b[0;32m      3\u001b[0m \u001b[38;5;28;01mfrom\u001b[39;00m \u001b[38;5;21;01mspacytextblob\u001b[39;00m\u001b[38;5;21;01m.\u001b[39;00m\u001b[38;5;21;01mspacytextblob\u001b[39;00m \u001b[38;5;28;01mimport\u001b[39;00m SpacyTextBlob\n\u001b[0;32m      5\u001b[0m \u001b[38;5;66;03m# Load spaCy model\u001b[39;00m\n",
      "\u001b[1;31mModuleNotFoundError\u001b[0m: No module named 'spacy'"
     ]
    }
   ],
   "source": [
    "import json\n",
    "import spacy\n",
    "from spacytextblob.spacytextblob import SpacyTextBlob\n",
    "\n",
    "# Load spaCy model\n",
    "nlp_model = spacy.load('en_core_web_sm')\n",
    "\n",
    "# Add sentiment analysis pipeline\n",
    "nlp_model.add_pipe(\"spacytextblob\", last=True)\n",
    "\n",
    "# Open and load the JSON file\n",
    "with open('lyrics.json', 'r') as file:\n",
    "    song_data = json.load(file)\n",
    "\n",
    "# Retrieve lyrics from dictionary\n",
    "song_lyrics = song_data.get('lyrics', '')\n",
    "\n",
    "# Perform sentiment analysis\n",
    "doc_analysis = nlp_model(song_lyrics)\n",
    "sentiment_score = doc_analysis._.blob.polarity  # Get the polarity\n",
    "\n",
    "# Display the lyrics and the sentiment score\n",
    "print(\"Song Lyrics:\\n\", song_lyrics)\n",
    "print(\"\\nSentiment Score:\", sentiment_score)\n",
    "\n",
    "# Interpret the sentiment\n",
    "if sentiment_score > 0:\n",
    "    print(\"The lyrics are positive.\")\n",
    "elif sentiment_score < 0:\n",
    "    print(\"The lyrics are negative.\")\n",
    "else:\n",
    "    print(\"The lyrics are neutral.\")"
   ]
  },
  {
   "cell_type": "markdown",
   "metadata": {},
   "source": [
    "3. Write a function that takes an artist, song, and filename, accesses the lyrics.ovh api to get the song lyrics, and writes the results to the specified filename.  Test this function by getting the lyrics to any four songs of your choice and storing them in different files."
   ]
  },
  {
   "cell_type": "code",
   "execution_count": null,
   "metadata": {},
   "outputs": [
    {
     "name": "stdout",
     "output_type": "stream",
     "text": [
      "Lyrics for Hey Jude by The Beatles have been saved to hey_jude_lyrics.json.\n",
      "Lyrics for Hello by Adele have been saved to hello_lyrics.json.\n",
      "Lyrics for Shape of You by Ed Sheeran have been saved to shape_of_you_lyrics.json.\n",
      "Lyrics for Bohemian Rhapsody by Queen have been saved to bohemian_rhapsody_lyrics.json.\n"
     ]
    }
   ],
   "source": [
    "import requests\n",
    "\n",
    "def get_and_save_lyrics(artist, song, filename):\n",
    "    # Construct the API URL\n",
    "    url = f\"https://api.lyrics.ovh/v1/{artist}/{song}\"\n",
    "    \n",
    "    try:\n",
    "        # Send a GET request to the API\n",
    "        response = requests.get(url)\n",
    "        \n",
    "        # Check if the response is successful (status code 200)\n",
    "        if response.status_code == 200:\n",
    "            data = response.json()\n",
    "            lyrics = data.get(\"lyrics\", \"Lyrics not found.\")\n",
    "            \n",
    "            # Write the lyrics to the specified file\n",
    "            with open(filename, 'w', encoding='utf-8') as file:\n",
    "                file.write(lyrics)\n",
    "            print(f\"Lyrics for {song} by {artist} have been saved to {filename}.\")\n",
    "        \n",
    "        else:\n",
    "            print(f\"Error: Unable to fetch lyrics for {song} by {artist}. Status code {response.status_code}.\")\n",
    "    \n",
    "    except requests.exceptions.RequestException as e:\n",
    "        print(f\"Error making request: {e}\")\n",
    "\n",
    "# Test the function by fetching lyrics for four songs\n",
    "songs_to_test = [\n",
    "    (\"The Beatles\", \"Hey Jude\", \"hey_jude_lyrics.json\"),\n",
    "    (\"Adele\", \"Hello\", \"hello_lyrics.json\"),\n",
    "    (\"Ed Sheeran\", \"Shape of You\", \"shape_of_you_lyrics.json\"),\n",
    "    (\"Queen\", \"Bohemian Rhapsody\", \"bohemian_rhapsody_lyrics.json\")\n",
    "]\n",
    "\n",
    "for artist, song, filename in songs_to_test:\n",
    "    get_and_save_lyrics(artist, song, filename)"
   ]
  },
  {
   "cell_type": "markdown",
   "metadata": {},
   "source": [
    "4. Write a function that takes the name of a file that contains song lyrics, loads the file, performs sentiment analysis, and returns the polarity score.  Use this function to print the polarity scores (with the name of the song) of the three files you created in question 3.  Does the reported polarity match your understanding of the song's lyrics? Why or why not do you think that might be?  Answer the questions in either a comment in the code cell or a markdown cell under the code cell."
   ]
  },
  {
   "cell_type": "code",
   "execution_count": null,
   "metadata": {},
   "outputs": [
    {
     "name": "stdout",
     "output_type": "stream",
     "text": [
      "The polarity score for the lyrics in hey_jude_lyrics.json is: 0.13194444444444445\n",
      "The polarity score for the lyrics in hello_lyrics.json is: -0.14109195402298852\n",
      "The polarity score for the lyrics in shape_of_you_lyrics.json is: 0.31929292929292935\n",
      "The polarity score for the lyrics in bohemian_rhapsody_lyrics.json is: -0.0029495701058200783\n"
     ]
    }
   ],
   "source": [
    "from textblob import TextBlob\n",
    "\n",
    "def analyze_sentiment_from_file(filename):\n",
    "    \"\"\"\n",
    "    This function takes the name of a file containing song lyrics,\n",
    "    loads the lyrics, and returns the polarity score of the text.\n",
    "    \"\"\"\n",
    "    try:\n",
    "        # Load the lyrics from the file\n",
    "        with open(filename, 'r', encoding='utf-8') as file:\n",
    "            lyrics = file.read()\n",
    "        \n",
    "        # Perform sentiment analysis\n",
    "        blob = TextBlob(lyrics)\n",
    "        polarity = blob.sentiment.polarity\n",
    "        \n",
    "        return polarity\n",
    "    \n",
    "    except FileNotFoundError:\n",
    "        print(f\"Error: The file {filename} was not found.\")\n",
    "        return None\n",
    "\n",
    "# List of the files created in the previous step\n",
    "files_to_analyze = [\n",
    "    \"hey_jude_lyrics.json\",\n",
    "    \"hello_lyrics.json\",\n",
    "    \"shape_of_you_lyrics.json\",\n",
    "    \"bohemian_rhapsody_lyrics.json\"\n",
    "]\n",
    "\n",
    "# Analyzing sentiment for each song file and printing the polarity score\n",
    "for file in files_to_analyze:\n",
    "    polarity = analyze_sentiment_from_file(file)\n",
    "    if polarity is not None:\n",
    "        print(f\"The polarity score for the lyrics in {file} is: {polarity}\")"
   ]
  }
 ],
 "metadata": {
  "kernelspec": {
   "display_name": ".venv",
   "language": "python",
   "name": "python3"
  },
  "language_info": {
   "codemirror_mode": {
    "name": "ipython",
    "version": 3
   },
   "file_extension": ".py",
   "mimetype": "text/x-python",
   "name": "python",
   "nbconvert_exporter": "python",
   "pygments_lexer": "ipython3",
   "version": "3.13.0"
  }
 },
 "nbformat": 4,
 "nbformat_minor": 4
}
